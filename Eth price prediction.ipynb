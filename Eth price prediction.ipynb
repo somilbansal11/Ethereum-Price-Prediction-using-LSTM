{
 "cells": [
  {
   "cell_type": "code",
   "execution_count": 1,
   "id": "71a659ca",
   "metadata": {},
   "outputs": [],
   "source": [
    "import numpy as np # linear algebra\n",
    "import pandas as pd # data processing, CSV file I/O (e.g. pd.read_csv)\n",
    "\n",
    "# Input data files are available in the read-only \"../input/\" directory\n",
    "# For example, running this (by clicking run or pressing Shift+Enter) will list all files under the input directory\n",
    "\n",
    "import os\n",
    "for dirname, _, filenames in os.walk('/kaggle/input'):\n",
    "    for filename in filenames:\n",
    "        print(os.path.join(dirname, filename))"
   ]
  },
  {
   "cell_type": "code",
   "execution_count": 30,
   "id": "c645bd23",
   "metadata": {},
   "outputs": [],
   "source": [
    "import numpy as np\n",
    "import pandas as pd\n",
    "import matplotlib.pyplot as plt\n",
    "import pandas_datareader.data as web\n",
    "import datetime as dt\n",
    "import tensorflow as tf\n",
    "import sklearn\n",
    "from sklearn.preprocessing import MinMaxScaler\n",
    "from tensorflow.keras.layers import Dense, Dropout, LSTM\n",
    "from tensorflow.keras.models import Sequential\n",
    "\n",
    "crypto_currency = 'ETH'\n",
    "against_currency = 'INR'\n",
    "\n",
    "start = dt.datetime(2016,1,1)\n",
    "end = dt.datetime.now()\n",
    "\n",
    "data = web.DataReader(f'{crypto_currency}-{against_currency}', 'yahoo', start, end)\n",
    "\n",
    "#print(data.head())\n",
    "#perpare_data\n",
    "scaler = MinMaxScaler(feature_range=(0,1))\n",
    "scaled_data = scaler.fit_transform(data['Close'].values.reshape(-1,1))\n",
    "\n",
    "prediction_days = 60\n",
    "future_day = 31\n",
    "\n",
    "x_train, y_train = [], []\n",
    "for x in range(prediction_days, len(scaled_data)-future_day):\n",
    "    x_train.append(scaled_data[x-prediction_days:x, 0])\n",
    "    y_train.append(scaled_data[x+future_day, 0])\n",
    "x_train, y_train = np.array(x_train), np.array(y_train)\n",
    "x_train = np.reshape(x_train, (x_train.shape[0], x_train.shape[1], 1))\n",
    "        \n"
   ]
  },
  {
   "cell_type": "code",
   "execution_count": 10,
   "id": "4c2fb424",
   "metadata": {},
   "outputs": [
    {
     "name": "stdout",
     "output_type": "stream",
     "text": [
      "Defaulting to user installation because normal site-packages is not writeable\n",
      "Collecting pandas_datareader\n",
      "  Downloading pandas_datareader-0.10.0-py3-none-any.whl (109 kB)\n",
      "Requirement already satisfied: lxml in c:\\programdata\\anaconda3\\lib\\site-packages (from pandas_datareader) (4.8.0)\n",
      "Requirement already satisfied: requests>=2.19.0 in c:\\programdata\\anaconda3\\lib\\site-packages (from pandas_datareader) (2.27.1)\n",
      "Requirement already satisfied: pandas>=0.23 in c:\\programdata\\anaconda3\\lib\\site-packages (from pandas_datareader) (1.4.2)\n",
      "Requirement already satisfied: pytz>=2020.1 in c:\\programdata\\anaconda3\\lib\\site-packages (from pandas>=0.23->pandas_datareader) (2021.3)\n",
      "Requirement already satisfied: python-dateutil>=2.8.1 in c:\\programdata\\anaconda3\\lib\\site-packages (from pandas>=0.23->pandas_datareader) (2.8.2)\n",
      "Requirement already satisfied: numpy>=1.18.5 in c:\\programdata\\anaconda3\\lib\\site-packages (from pandas>=0.23->pandas_datareader) (1.21.5)\n",
      "Requirement already satisfied: six>=1.5 in c:\\programdata\\anaconda3\\lib\\site-packages (from python-dateutil>=2.8.1->pandas>=0.23->pandas_datareader) (1.16.0)\n",
      "Requirement already satisfied: idna<4,>=2.5 in c:\\programdata\\anaconda3\\lib\\site-packages (from requests>=2.19.0->pandas_datareader) (3.3)\n",
      "Requirement already satisfied: urllib3<1.27,>=1.21.1 in c:\\programdata\\anaconda3\\lib\\site-packages (from requests>=2.19.0->pandas_datareader) (1.26.9)\n",
      "Requirement already satisfied: charset-normalizer~=2.0.0 in c:\\programdata\\anaconda3\\lib\\site-packages (from requests>=2.19.0->pandas_datareader) (2.0.4)\n",
      "Requirement already satisfied: certifi>=2017.4.17 in c:\\programdata\\anaconda3\\lib\\site-packages (from requests>=2.19.0->pandas_datareader) (2021.10.8)\n",
      "Installing collected packages: pandas-datareader\n",
      "Successfully installed pandas-datareader-0.10.0\n",
      "Note: you may need to restart the kernel to use updated packages.\n"
     ]
    }
   ],
   "source": [
    "pip install pandas_datareader"
   ]
  },
  {
   "cell_type": "code",
   "execution_count": 32,
   "id": "72d8e31d",
   "metadata": {
    "scrolled": true
   },
   "outputs": [
    {
     "name": "stdout",
     "output_type": "stream",
     "text": [
      "Epoch 1/25\n",
      "52/52 [==============================] - 6s 31ms/step - loss: 0.0240\n",
      "Epoch 2/25\n",
      "52/52 [==============================] - 2s 32ms/step - loss: 0.0130\n",
      "Epoch 3/25\n",
      "52/52 [==============================] - 2s 31ms/step - loss: 0.0120\n",
      "Epoch 4/25\n",
      "52/52 [==============================] - 2s 31ms/step - loss: 0.0107\n",
      "Epoch 5/25\n",
      "52/52 [==============================] - 2s 31ms/step - loss: 0.0111\n",
      "Epoch 6/25\n",
      "52/52 [==============================] - 2s 32ms/step - loss: 0.0104\n",
      "Epoch 7/25\n",
      "52/52 [==============================] - 2s 31ms/step - loss: 0.0104\n",
      "Epoch 8/25\n",
      "52/52 [==============================] - 2s 31ms/step - loss: 0.0105\n",
      "Epoch 9/25\n",
      "52/52 [==============================] - 2s 31ms/step - loss: 0.0097\n",
      "Epoch 10/25\n",
      "52/52 [==============================] - 2s 31ms/step - loss: 0.0102\n",
      "Epoch 11/25\n",
      "52/52 [==============================] - 2s 32ms/step - loss: 0.0104\n",
      "Epoch 12/25\n",
      "52/52 [==============================] - 2s 31ms/step - loss: 0.0101\n",
      "Epoch 13/25\n",
      "52/52 [==============================] - 2s 32ms/step - loss: 0.0099\n",
      "Epoch 14/25\n",
      "52/52 [==============================] - 2s 32ms/step - loss: 0.0098\n",
      "Epoch 15/25\n",
      "52/52 [==============================] - 2s 31ms/step - loss: 0.0102\n",
      "Epoch 16/25\n",
      "52/52 [==============================] - 2s 31ms/step - loss: 0.0097\n",
      "Epoch 17/25\n",
      "52/52 [==============================] - 2s 31ms/step - loss: 0.0096\n",
      "Epoch 18/25\n",
      "52/52 [==============================] - 2s 31ms/step - loss: 0.0095\n",
      "Epoch 19/25\n",
      "52/52 [==============================] - 2s 31ms/step - loss: 0.0092\n",
      "Epoch 20/25\n",
      "52/52 [==============================] - 2s 31ms/step - loss: 0.0095\n",
      "Epoch 21/25\n",
      "52/52 [==============================] - 2s 31ms/step - loss: 0.0092\n",
      "Epoch 22/25\n",
      "52/52 [==============================] - 2s 32ms/step - loss: 0.0096\n",
      "Epoch 23/25\n",
      "52/52 [==============================] - 2s 32ms/step - loss: 0.0096\n",
      "Epoch 24/25\n",
      "52/52 [==============================] - 2s 33ms/step - loss: 0.0092\n",
      "Epoch 25/25\n",
      "52/52 [==============================] - 2s 31ms/step - loss: 0.0093\n",
      "31/31 [==============================] - 1s 10ms/step\n"
     ]
    },
    {
     "data": {
      "image/png": "[encoded data removed]",
      "text/plain": [
       "<Figure size 432x288 with 1 Axes>"
      ]
     },
     "metadata": {
      "needs_background": "light"
     },
     "output_type": "display_data"
    },
    {
     "name": "stdout",
     "output_type": "stream",
     "text": [
      "1/1 [==============================] - 1s 1s/step\n",
      "\n"
     ]
    }
   ],
   "source": [
    "#Create the neural network\n",
    "from keras.models import Sequential\n",
    "from keras.layers import Dense, Dropout, Activation\n",
    "from keras.optimizers import SGD\n",
    "import datetime as dt\n",
    "model = Sequential()\n",
    "        \n",
    "model.add(LSTM(units=50, return_sequences=True, input_shape=(x_train.shape[1], 1)))\n",
    "model.add(Dropout(0.2))\n",
    "model.add(LSTM(units=50, return_sequences=True))\n",
    "model.add(Dropout(0.2))\n",
    "model.add(LSTM(units=50))\n",
    "model.add(Dropout(0.2))\n",
    "model.add(Dense(units=1))\n",
    "                          \n",
    "model.compile(optimizer='adam', loss='mean_squared_error')\n",
    "model.fit(x_train, y_train, epochs=25, batch_size=32)\n",
    "                  \n",
    "#Testing the model\n",
    "\n",
    "test_start = dt.datetime(2020,1,1)\n",
    "test_end = dt.datetime.now()          \n",
    "                  \n",
    "test_data = web.DataReader(f'{crypto_currency}-{against_currency}', 'yahoo', test_start, test_end)                \n",
    "actual_prices = test_data['Close'].values        \n",
    "        \n",
    "total_dataset = pd.concat((data['Close'], test_data['Close']))\n",
    "          \n",
    "model_inputs = total_dataset[len(total_dataset) - len(test_data) - prediction_days:].values\n",
    "model_inputs = model_inputs.reshape(-1, 1)\n",
    "model_inputs = scaler.fit_transform(model_inputs)\n",
    "          \n",
    "x_test = []\n",
    "          \n",
    "for x in range(prediction_days, len(model_inputs)):\n",
    "          x_test.append(model_inputs[x-prediction_days:x, 0])\n",
    "          \n",
    "x_test = np.array(x_test)\n",
    "x_test = np.reshape(x_test, (x_test.shape[0], x_test.shape[1], 1))\n",
    "                    \n",
    "prediction_prices = model.predict(x_test)\n",
    "prediction_prices = scaler.inverse_transform(prediction_prices)\n",
    "                    \n",
    "plt.plot(actual_prices, color='red', label='Actual Prices')\n",
    "plt.plot(prediction_prices, color='green', label='Predicted Prices')\n",
    "plt.title(f'{crypto_currency} price prediction')\n",
    "plt.xlabel('Time')\n",
    "plt.ylabel('Price')\n",
    "plt.legend(loc='upper left')\n",
    "plt.show()\n",
    "          \n",
    "#Predict next day\n",
    " \n",
    "real_data = [model_inputs[len(model_inputs) + 1 - prediction_days:len(model_inputs) + 1, 0]]\n",
    "real_data = np.array(real_data)\n",
    "real_data = np.reshape(real_data, (real_data.shape[0],real_data.shape[1], 1))\n",
    "\n",
    "prediction = model.predict(real_data)\n",
    "prediction = scaler.inverse_transform(prediction)\n",
    "print()          "
   ]
  },
  {
   "cell_type": "code",
   "execution_count": null,
   "id": "b1f7051a",
   "metadata": {},
   "outputs": [],
   "source": []
  }
 ],
 "metadata": {
  "kernelspec": {
   "display_name": "Python 3 (ipykernel)",
   "language": "python",
   "name": "python3"
  },
  "language_info": {
   "codemirror_mode": {
    "name": "ipython",
    "version": 3
   },
   "file_extension": ".py",
   "mimetype": "text/x-python",
   "name": "python",
   "nbconvert_exporter": "python",
   "pygments_lexer": "ipython3",
   "version": "3.9.12"
  }
 },
 "nbformat": 4,
 "nbformat_minor": 5
}
